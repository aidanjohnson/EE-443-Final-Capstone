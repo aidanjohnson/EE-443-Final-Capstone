{
 "cells": [
  {
   "cell_type": "code",
   "execution_count": 17,
   "metadata": {},
   "outputs": [],
   "source": [
    "import numpy as np\n",
    "from yaafelib import *\n",
    "import sklearn\n",
    "\n",
    "audiofile = ''\n",
    "\n",
    "fp = FeaturePlan(sample_rate=16000)\n",
    "fp.addFeature('mfcc: MFCC blockSize=512 stepSize=256')\n",
    "fp.addFeature('mfcc_d1: MFCC blockSize=512 stepSize=256 > Derivate DOrder=1')\n",
    "fp.addFeature('mfcc_d2: MFCC blockSize=512 stepSize=256 > Derivate DOrder=2')\n",
    "fp.addFeature('sf: SpectralFlatness blockSize=1024')\n",
    "fp.addFeature('sr: SpectralRolloff blockSize=1024')\n",
    "fp.addFeature('ss: SpectralSlope')\n",
    "fp.addFeature('obsi: OBSI')\n",
    "fp.addFeature('tss: TemporalShapeStatistics')\n",
    "fp.addFeature('zcr: ZCR')\n",
    "fp.addFeature('sv: SpectralVariation')\n",
    "fp.addFeature('sss: SpectralShapeStatistics')\n",
    "\n",
    "df = fp.getDataFlow()\n",
    "df.display()\n",
    "\n",
    "engine = Engine()\n",
    "engine.load(df)\n",
    "\n",
    "afp = AudioFileProcessor()\n",
    "afp.processFile(engine,audiofile)\n",
    "\n",
    "feats = engine.readAllOutputs()\n",
    "\n",
    "afp.setOutputFormat('csv','output',{'Precision':'8'})\n",
    "# afp.processFile(engine,audiofile)\n",
    "\n",
    "audio = np.random.randn(1,100000)\n",
    "feats = engine.processAudio(audio)"
   ]
  },
  {
   "cell_type": "code",
   "execution_count": null,
   "metadata": {},
   "outputs": [],
   "source": []
  }
 ],
 "metadata": {
  "kernelspec": {
   "display_name": "Python 3",
   "language": "python",
   "name": "python3"
  },
  "language_info": {
   "codemirror_mode": {
    "name": "ipython",
    "version": 3
   },
   "file_extension": ".py",
   "mimetype": "text/x-python",
   "name": "python",
   "nbconvert_exporter": "python",
   "pygments_lexer": "ipython3",
   "version": "3.6.3"
  }
 },
 "nbformat": 4,
 "nbformat_minor": 2
}
